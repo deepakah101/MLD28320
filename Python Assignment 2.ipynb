{
 "cells": [
  {
   "cell_type": "markdown",
   "metadata": {},
   "source": [
    "1. Create the below pattern using nested for loop in Python.\n",
    "\n",
    "*\n",
    "* *\n",
    "* * *\n",
    "* * * *\n",
    "* * * * *\n",
    "* * * *\n",
    "* * *\n",
    "* *\n",
    "*"
   ]
  },
  {
   "cell_type": "code",
   "execution_count": 3,
   "metadata": {},
   "outputs": [
    {
     "name": "stdout",
     "output_type": "stream",
     "text": [
      "* \n",
      "* * \n",
      "* * * \n",
      "* * * * \n",
      "* * * * * \n",
      "* * * * \n",
      "* * * \n",
      "* * \n",
      "* \n"
     ]
    }
   ],
   "source": [
    "# we need two counters\n",
    "counter = 0\n",
    "limiter = 0\n",
    "\n",
    "# this is main for loop\n",
    "for i in range(0, 9):\n",
    "    counter += 1\n",
    "   \n",
    "    # here we print first half part of pattern\n",
    "    if counter <= 5:\n",
    "        for j in range(0, i+1):\n",
    "            print(\"* \", end='')\n",
    "        print()\n",
    "        limiter += 1 # this counter gives range to print second half of pattern\n",
    "\n",
    "    # here we print second half of pattern in reverse order\n",
    "    else:\n",
    "        for j in range(limiter-1, 0, -1):\n",
    "            print(\"* \", end='')\n",
    "        print()\n",
    "        limiter -= 1\n"
   ]
  },
  {
   "cell_type": "markdown",
   "metadata": {},
   "source": [
    "2. Write a Python program to reverse a word after accepting the input from the user."
   ]
  },
  {
   "cell_type": "code",
   "execution_count": 2,
   "metadata": {},
   "outputs": [
    {
     "name": "stdout",
     "output_type": "stream",
     "text": [
      "Enter a word: hello world\n",
      "dlrow olleh\n"
     ]
    }
   ],
   "source": [
    "# take input from user\n",
    "word = input(\"Enter a word: \")\n",
    "\n",
    "# reverse the word and print \n",
    "print(word[::-1])\n"
   ]
  }
 ],
 "metadata": {
  "kernelspec": {
   "display_name": "Python 3",
   "language": "python",
   "name": "python3"
  },
  "language_info": {
   "codemirror_mode": {
    "name": "ipython",
    "version": 3
   },
   "file_extension": ".py",
   "mimetype": "text/x-python",
   "name": "python",
   "nbconvert_exporter": "python",
   "pygments_lexer": "ipython3",
   "version": "3.7.3"
  }
 },
 "nbformat": 4,
 "nbformat_minor": 4
}
